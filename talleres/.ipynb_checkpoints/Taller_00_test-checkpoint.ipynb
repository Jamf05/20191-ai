{
 "cells": [
  {
   "cell_type": "markdown",
   "metadata": {},
   "source": [
    "<img src=\"../imgs/banner_IA.png\"  width=\"1000px\" height=\"200px\">\n",
    "\n",
    "# Taller 00:  Ejemplo de ejecución\n",
    "\n",
    "## <span style=\"color:red\"> Outline </span> \n",
    "\n",
    "1. [Ejercicio 1. numpy](#eje1)\n",
    "2. [Ejercicio 2. hello](#eje2)\n",
    "\n",
    "#### <font style=\"color: red\"> Esta práctica contiene 2 ejercicios <!-- ONLY IN NOTEBOOK -->\n",
    "\n",
    "<h2><span style=\"color:#FFF; background-color:#F00; font-weight:bold; padding:4px;\">¡IMPORTANTE!</span> Ejecute esta celda para iniciar la actividad</h2>"
   ]
  },
  {
   "cell_type": "code",
   "execution_count": null,
   "metadata": {},
   "outputs": [],
   "source": [
    "!chmod 777 empaquetar.sh run utils/*"
   ]
  },
  {
   "cell_type": "markdown",
   "metadata": {},
   "source": [
    "<h2><span style=\"color:#FFF; background-color:#F00; font-weight:bold; padding:4px;\">¡IMPORTANTE!</span></h2><br><h2 style=\"margin-top:-10px;\">Usted debe ejecutar <span style=\"color:#F00;\">TODAS</span> las celdas de tipo <span style=\"color:#F00;\">CODE</span>. De lo contrario, sus respuestas no serán procesadas correctamente.</h2>"
   ]
  },
  {
   "cell_type": "markdown",
   "metadata": {},
   "source": [
    "### Ejercicio 1  <a name=\"eje1\"></a>"
   ]
  },
  {
   "cell_type": "markdown",
   "metadata": {},
   "source": [
    "Completa la función `suma_matrices` para que, dadas dos arrays numpy cualquiera devuelva la suma elemento a elemento.\n",
    "\n",
    "#### Ejemplo de ejecución\n",
    "\n",
    "    > s = np.array([1,2,3])\n",
    "    > t = np.array([4,5,6])\n",
    "    > suma_matrices(s,t)\n",
    "    \n",
    "      [5 7 9]\n",
    "     \n",
    "_Sugerencia_: completa el código de la siguiente manera:\n",
    "\n",
    "    def suma_matrices(a,b):\n",
    "       ## --- TU CODIGO AQUI ---\n",
    "       result = a + b\n",
    "       return result"
   ]
  },
  {
   "cell_type": "code",
   "execution_count": null,
   "metadata": {},
   "outputs": [],
   "source": [
    "import numpy as np\n",
    "\n",
    "def suma_matrices(a,b):\n",
    "    ## --- TU CODIGO AQUI ---\n",
    "    result = a+b\n",
    "    return result\n",
    "\n",
    "import urllib, inspect\n",
    "src1 = urllib.quote_plus(inspect.getsource(suma_matrices))"
   ]
  },
  {
   "cell_type": "markdown",
   "metadata": {},
   "source": [
    "#### <span style=\"color:#FFF; background-color:#080; font-weight:bold; padding:4px;\">Importante</span> Evalue su respuesta."
   ]
  },
  {
   "cell_type": "code",
   "execution_count": null,
   "metadata": {},
   "outputs": [],
   "source": [
    "!./run CHECK_SOLUTION PS0_1 $src1"
   ]
  },
  {
   "cell_type": "markdown",
   "metadata": {},
   "source": [
    "### Ejercicio 2  <a name=\"eje2\"></a>"
   ]
  },
  {
   "cell_type": "code",
   "execution_count": null,
   "metadata": {},
   "outputs": [],
   "source": [
    "def say_hello():\n",
    "    ## --- TU CODIGO AQUI ---\n",
    "    result = \"hello\"\n",
    "    return result\n",
    "\n",
    "import urllib, inspect\n",
    "src2 = urllib.quote_plus(inspect.getsource(say_hello))"
   ]
  },
  {
   "cell_type": "markdown",
   "metadata": {},
   "source": [
    "#### <span style=\"color:#FFF; background-color:#080; font-weight:bold; padding:4px;\">Importante</span> Evalue su respuesta."
   ]
  },
  {
   "cell_type": "code",
   "execution_count": null,
   "metadata": {},
   "outputs": [],
   "source": [
    "!./run CHECK_SOLUTION PS0_2 $src2"
   ]
  },
  {
   "cell_type": "markdown",
   "metadata": {},
   "source": [
    "#### <span style=\"color:#FFF; background-color:#080; font-weight:bold; padding:4px;\">Importante</span> Pasos Finales. \n",
    "\n",
    "#### 1. Guarde los cambios del taller:"
   ]
  },
  {
   "cell_type": "code",
   "execution_count": null,
   "metadata": {},
   "outputs": [],
   "source": [
    "%%javascript\n",
    "require([\"base/js/namespace\"],function(Jupyter) {\n",
    "    Jupyter.notebook.save_checkpoint();\n",
    "});"
   ]
  },
  {
   "cell_type": "markdown",
   "metadata": {},
   "source": [
    "#### 2. Reemplace la variable con su código de estudiante"
   ]
  },
  {
   "cell_type": "code",
   "execution_count": null,
   "metadata": {},
   "outputs": [],
   "source": [
    "codigo=0000000"
   ]
  },
  {
   "cell_type": "markdown",
   "metadata": {},
   "source": [
    "#### 3. Ejecute la siguiente selda y envíe el archivo comprimido"
   ]
  },
  {
   "cell_type": "code",
   "execution_count": null,
   "metadata": {},
   "outputs": [],
   "source": [
    "!./empaquetar.sh $codigo"
   ]
  },
  {
   "cell_type": "markdown",
   "metadata": {},
   "source": [
    "---\n",
    "# <center> Thanks! </center>"
   ]
  }
 ],
 "metadata": {
  "kernelspec": {
   "display_name": "Python 2",
   "language": "python",
   "name": "python2"
  },
  "language_info": {
   "codemirror_mode": {
    "name": "ipython",
    "version": 2
   },
   "file_extension": ".py",
   "mimetype": "text/x-python",
   "name": "python",
   "nbconvert_exporter": "python",
   "pygments_lexer": "ipython2",
   "version": "2.7.14"
  },
  "toc": {
   "toc_cell": false,
   "toc_number_sections": true,
   "toc_threshold": 6,
   "toc_window_display": false
  }
 },
 "nbformat": 4,
 "nbformat_minor": 1
}
